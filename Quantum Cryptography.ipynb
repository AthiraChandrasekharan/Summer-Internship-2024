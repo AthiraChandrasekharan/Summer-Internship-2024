{
 "cells": [
  {
   "cell_type": "code",
   "execution_count": 15,
   "id": "2c21edbd-8663-46bb-9796-13e81b9e13c6",
   "metadata": {},
   "outputs": [
    {
     "name": "stdout",
     "output_type": "stream",
     "text": [
      "[ 1.  1. -1.  1.  1.  1. -1.  1. -1.  1.]\n"
     ]
    }
   ],
   "source": [
    "import pennylane as qml\n",
    "import numpy as np\n",
    "\n",
    "dev=qml.device('default.qubit',wires=10,shots=1)\n",
    "\n",
    "def alice():\n",
    "    qml.PauliX(wires=2)\n",
    "    qml.Hadamard(wires=3)\n",
    "    qml.PauliX(wires=5)\n",
    "    qml.Hadamard(wires=5)\n",
    "    qml.PauliX(wires=6)\n",
    "    qml.Hadamard(wires=7)\n",
    "    qml.Hadamard(wires=8)\n",
    "    qml.PauliX(wires=9)\n",
    "#Alices message is  0 0 1 H0 0 H1 1 H0 H0 1 \n",
    "#Bob gets these qubits\n",
    "#Now Bob randomly measures these qubits (Type 1 or Type H measurement)\n",
    "    qml.Hadamard(wires=2)\n",
    "    qml.Hadamard(wires=7)\n",
    "    qml.Hadamard(wires=4)\n",
    "    qml.Hadamard(wires=3)\n",
    "    qml.Hadamard(wires=9)\n",
    "\n",
    "    return qml.expval(qml.PauliZ(wires=0)), qml.expval(qml.PauliZ(wires=1)), qml.expval(qml.PauliZ(wires=2)), qml.expval(qml.PauliZ(wires=3)), qml.expval(qml.PauliZ(wires=4)), qml.expval(qml.PauliZ(wires=5)), qml.expval(qml.PauliZ(wires=6)), qml.expval(qml.PauliZ(wires=7)), qml.expval(qml.PauliZ(wires=8)), qml.expval(qml.PauliZ(wires=9)) \n",
    "circuit2=qml.QNode(alice,dev)\n",
    "\n",
    "print(circuit2())\n",
    "    \n",
    "    \n",
    "\n",
    "\n",
    "\n"
   ]
  },
  {
   "cell_type": "code",
   "execution_count": 13,
   "id": "ea4a8e36-d434-4e0e-9f17-e48788b136af",
   "metadata": {},
   "outputs": [],
   "source": [
    "#Qubits for which the type of measuremnt by Alice and Bob coincided are: 0,1,3,6,7. Hence now both of them get an identical codepad: 0 0 0 1 0.\n"
   ]
  },
  {
   "cell_type": "code",
   "execution_count": null,
   "id": "cd1a9e6d-f8a0-40c1-b6d6-4a020ea23e2f",
   "metadata": {},
   "outputs": [],
   "source": []
  }
 ],
 "metadata": {
  "kernelspec": {
   "display_name": "Python 3 (ipykernel)",
   "language": "python",
   "name": "python3"
  },
  "language_info": {
   "codemirror_mode": {
    "name": "ipython",
    "version": 3
   },
   "file_extension": ".py",
   "mimetype": "text/x-python",
   "name": "python",
   "nbconvert_exporter": "python",
   "pygments_lexer": "ipython3",
   "version": "3.10.14"
  }
 },
 "nbformat": 4,
 "nbformat_minor": 5
}
