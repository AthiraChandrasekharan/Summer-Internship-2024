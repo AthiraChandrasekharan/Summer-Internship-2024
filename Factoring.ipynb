{
 "cells": [
  {
   "cell_type": "code",
   "execution_count": null,
   "id": "ac926f08-0cf0-49a3-be26-567b8ee60172",
   "metadata": {},
   "outputs": [],
   "source": [
    "FACTORING"
   ]
  },
  {
   "cell_type": "code",
   "execution_count": 42,
   "id": "59718860-25a8-405f-baea-4dca157a9221",
   "metadata": {},
   "outputs": [
    {
     "name": "stdout",
     "output_type": "stream",
     "text": [
      "330\n"
     ]
    }
   ],
   "source": [
    "def function(b,x,n):\n",
    "     return pow(b,x,n)\n",
    "\n",
    "b=2\n",
    "n=10117\n",
    "result1 = function(b,1,n)\n",
    "result2 = function(b,2,n)\n",
    "\n",
    "\n",
    "\n",
    "for x in range(3,10117):\n",
    "    result3=(pow(b,x,n))\n",
    "    if result3==result1:\n",
    "        print(x-1)\n",
    "        break\n",
    "    elif result3==result2:\n",
    "        print(x-2)\n",
    "        break"
   ]
  },
  {
   "cell_type": "code",
   "execution_count": 43,
   "id": "f48cd3dd-c2a8-4c80-953b-6925449e17bb",
   "metadata": {},
   "outputs": [
    {
     "name": "stdout",
     "output_type": "stream",
     "text": [
      "8909\n",
      "8911\n"
     ]
    }
   ],
   "source": [
    " z=pow(2,165,10117)\n",
    "print(z-1)\n",
    "print(z+1)"
   ]
  },
  {
   "cell_type": "code",
   "execution_count": 44,
   "id": "327b665a-3815-4d9b-8c94-ac397c0586ef",
   "metadata": {},
   "outputs": [
    {
     "name": "stdout",
     "output_type": "stream",
     "text": [
      "The GCD of 8909 and 10117 is: 151\n"
     ]
    }
   ],
   "source": [
    "import math\n",
    "\n",
    "# Function to find GCD of two numbers\n",
    "def find_gcd(a, b):\n",
    "    return math.gcd(a, b)\n",
    "\n",
    "# Example usage:\n",
    "num1 = 8909\n",
    "num2 = 10117\n",
    "\n",
    "gcd_result = find_gcd(num1, num2)\n",
    "print(f\"The GCD of {num1} and {num2} is: {gcd_result}\")\n"
   ]
  },
  {
   "cell_type": "code",
   "execution_count": 45,
   "id": "6b80ae83-ab6b-43cb-a0f8-7d78f1eb6e86",
   "metadata": {},
   "outputs": [
    {
     "name": "stdout",
     "output_type": "stream",
     "text": [
      "The GCD of 8911 and 10117 is: 67\n"
     ]
    }
   ],
   "source": [
    "import math\n",
    "\n",
    "# Function to find GCD of two numbers\n",
    "def find_gcd(a, b):\n",
    "    return math.gcd(a, b)\n",
    "\n",
    "# Example usage:\n",
    "num1 = 8911\n",
    "num2 = 10117\n",
    "\n",
    "gcd_result = find_gcd(num1, num2)\n",
    "print(f\"The GCD of {num1} and {num2} is: {gcd_result}\")\n"
   ]
  },
  {
   "cell_type": "code",
   "execution_count": null,
   "id": "e935a7e9-b8d8-452c-a3b5-e3cfb54679b3",
   "metadata": {},
   "outputs": [],
   "source": []
  }
 ],
 "metadata": {
  "kernelspec": {
   "display_name": "Python 3 (ipykernel)",
   "language": "python",
   "name": "python3"
  },
  "language_info": {
   "codemirror_mode": {
    "name": "ipython",
    "version": 3
   },
   "file_extension": ".py",
   "mimetype": "text/x-python",
   "name": "python",
   "nbconvert_exporter": "python",
   "pygments_lexer": "ipython3",
   "version": "3.10.14"
  }
 },
 "nbformat": 4,
 "nbformat_minor": 5
}
